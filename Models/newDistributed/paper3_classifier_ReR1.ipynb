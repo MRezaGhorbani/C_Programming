{
  "nbformat": 4,
  "nbformat_minor": 0,
  "metadata": {
    "colab": {
      "provenance": [],
      "authorship_tag": "ABX9TyOHoVZKWDvb0NjJeUK4zCck",
      "include_colab_link": true
    },
    "kernelspec": {
      "name": "python3",
      "display_name": "Python 3"
    },
    "language_info": {
      "name": "python"
    }
  },
  "cells": [
    {
      "cell_type": "markdown",
      "metadata": {
        "id": "view-in-github",
        "colab_type": "text"
      },
      "source": [
        "<a href=\"https://colab.research.google.com/github/MRezaGhorbani/C_Programming/blob/main/Models/newDistributed/paper3_classifier_ReR1.ipynb\" target=\"_parent\"><img src=\"https://colab.research.google.com/assets/colab-badge.svg\" alt=\"Open In Colab\"/></a>"
      ]
    },
    {
      "cell_type": "markdown",
      "source": [
        "# **Data Preprocess**"
      ],
      "metadata": {
        "id": "XIz_Bu22h3wh"
      }
    },
    {
      "cell_type": "code",
      "execution_count": null,
      "metadata": {
        "colab": {
          "base_uri": "https://localhost:8080/"
        },
        "id": "exdf2xU0h2qw",
        "outputId": "aa25db1b-e39e-48df-9362-a0bcdb31ac31"
      },
      "outputs": [
        {
          "output_type": "stream",
          "name": "stdout",
          "text": [
            "Before balancing:\n",
            "  Total samples: 377228\n",
            "  Label=0: 371380\n",
            "  Label=1: 5848\n",
            "\n",
            "After balancing for training:\n",
            "  Training samples (balanced): 23392\n",
            "  Label=0 in training: 17544\n",
            "  Label=1 in training: 5848\n",
            "\n",
            "Appending leftover negatives to validation set: 353836 samples\n",
            "\n",
            "Final sets:\n",
            "X_train_bal: (18713, 40, 4), y_train: (18713,)\n",
            "X_val_bal:   (4679, 40, 4),   y_val:   (4679,)\n",
            "X_train: (18713, 40, 4), y_train: (18713,)\n",
            "X_val:   (358515, 40, 4),   y_val:   (358515,)\n",
            "Train set distribution:\n",
            "  Label=0: 14048\n",
            "  Label=1: 4665\n",
            "Validation set distribution:\n",
            "  Label=0: 357332\n",
            "  Label=1: 1183\n"
          ]
        }
      ],
      "source": [
        "import scipy.io\n",
        "import numpy as np\n",
        "from sklearn.model_selection import train_test_split\n",
        "from tensorflow.keras.layers import Conv1D, MaxPooling1D, SimpleRNN, Dense, Dropout, Input, Flatten, GlobalAveragePooling1D\n",
        "from tensorflow.keras.models import Model\n",
        "\n",
        "# ----------------------------------------------------------------------\n",
        "# 1) Load input_files, label_files, selected_features,\n",
        "#    and perform data loading just like in your original code.\n",
        "# ----------------------------------------------------------------------\n",
        "\n",
        "input_files = [\n",
        "    \"Input_Train_de.mat\", \"Input_Train_Ax.mat\", \"Input_Train_Ay.mat\",\n",
        "    \"Input_Train_Az.mat\", \"Input_Train_p.mat\", \"Input_Train_q.mat\",\n",
        "    \"Input_Train_r.mat\", \"Input_Train_Z.mat\", \"Input_Train_W.mat\",\n",
        "    \"Input_Train_T.mat\", \"Input_Train_Wind.mat\", \"Input_Train_Road.mat\",\n",
        "    \"Input_Train_m.mat\", \"Input_Train_mu.mat\", \"Input_Train_Re.mat\"\n",
        "]\n",
        "\n",
        "label_files = [\n",
        "    \"Label_Train_de.mat\", \"Label_Train_Ax.mat\", \"Label_Train_Ay.mat\",\n",
        "    \"Label_Train_Az.mat\", \"Label_Train_p.mat\", \"Label_Train_q.mat\",\n",
        "    \"Label_Train_r.mat\", \"Label_Train_Z.mat\", \"Label_Train_W.mat\",\n",
        "    \"Label_Train_T.mat\", \"Label_Train_Wind.mat\", \"Label_Train_Road.mat\",\n",
        "    \"Label_Train_m.mat\", \"Label_Train_mu.mat\", \"Label_Train_Re.mat\"\n",
        "]\n",
        "\n",
        "selected_features = [0, 21, 22, 23, 24, 25, 26]  # 0-indexed\n",
        "\n",
        "\n",
        "# Load and concatenate all input and label data\n",
        "all_inputs = []\n",
        "all_labels = []\n",
        "for input_file, label_file in zip(input_files, label_files):\n",
        "    input_data = scipy.io.loadmat(input_file)['Inputs']\n",
        "    label_data = scipy.io.loadmat(label_file)['Labels']\n",
        "\n",
        "    for i in range(input_data.shape[1]):\n",
        "        # Extract only selected features\n",
        "        all_inputs.append(input_data[0, i][selected_features, :])\n",
        "        # Encode only 'ReR1' fault as 1, everything else as 0\n",
        "        all_labels.append(np.where(label_data[0, i] == 27, 1, 0))\n",
        "\n",
        "# Convert lists to numpy arrays\n",
        "all_inputs = np.concatenate(all_inputs, axis=1)  # shape: (num_features, total_timesteps)\n",
        "all_labels = np.concatenate(all_labels, axis=1)  # shape: (1, total_timesteps)\n",
        "\n",
        "# ----------------------------------------------------------------------\n",
        "# 2) Build 40-step windows, labeling each window by the *last* step's label\n",
        "# ----------------------------------------------------------------------\n",
        "window_size = 40\n",
        "X_simulations = []\n",
        "y_simulations = []\n",
        "\n",
        "for t in range(all_inputs.shape[1] - window_size + 1):\n",
        "    # Extract a 40-step window of features\n",
        "    X_simulations.append(all_inputs[:, t : t + window_size].T)  # shape: (40, num_features)\n",
        "\n",
        "    # Label = the last step in this 40-step window\n",
        "    window_label = all_labels[0, t + window_size - 1]\n",
        "    y_simulations.append(window_label)\n",
        "\n",
        "X_combined = np.array(X_simulations)  # shape: (num_windows, 40, num_features)\n",
        "y_combined = np.array(y_simulations)  # shape: (num_windows,)\n",
        "\n",
        "##############################################################################\n",
        "# 2) Downsample the majority class (label=0) to be exactly 2× label=1 for training\n",
        "##############################################################################\n",
        "\n",
        "print(\"Before balancing:\")\n",
        "print(f\"  Total samples: {len(y_combined)}\")\n",
        "print(f\"  Label=0: {np.sum(y_combined == 0)}\")\n",
        "print(f\"  Label=1: {np.sum(y_combined == 1)}\")\n",
        "\n",
        "pos_indices = np.where(y_combined == 1)[0]  # minority class\n",
        "neg_indices = np.where(y_combined == 0)[0]  # majority class\n",
        "\n",
        "n_pos = len(pos_indices)\n",
        "n_neg = len(neg_indices)\n",
        "\n",
        "# Desired number of negatives for training is 2× the number of positives\n",
        "desired_neg = 3 * n_pos\n",
        "\n",
        "# Shuffle negative indices so we pick them randomly\n",
        "np.random.shuffle(neg_indices)\n",
        "\n",
        "# If we have more negatives than needed, keep the desired amount for training\n",
        "# and store the leftover for validation\n",
        "if n_neg > desired_neg:\n",
        "    neg_train_indices = neg_indices[:desired_neg]\n",
        "    leftover_neg_indices = neg_indices[desired_neg:]  # not used in training\n",
        "else:\n",
        "    # If we don't have enough neg to reach 2×, we just keep them all\n",
        "    neg_train_indices = neg_indices\n",
        "    leftover_neg_indices = np.array([])  # no leftovers\n",
        "\n",
        "# Now define the balanced training indices for features & labels\n",
        "train_indices_balanced = np.concatenate([pos_indices, neg_train_indices])\n",
        "np.random.shuffle(train_indices_balanced)  # shuffle them\n",
        "\n",
        "# Create balanced sets for training only\n",
        "X_balanced = X_combined[train_indices_balanced]\n",
        "y_balanced = y_combined[train_indices_balanced]\n",
        "\n",
        "print(\"\\nAfter balancing for training:\")\n",
        "print(f\"  Training samples (balanced): {len(y_balanced)}\")\n",
        "print(\"  Label=0 in training:\", np.sum(y_balanced == 0))\n",
        "print(\"  Label=1 in training:\", np.sum(y_balanced == 1))\n",
        "\n",
        "##############################################################################\n",
        "# 3) Split the balanced data into train and validation sets\n",
        "##############################################################################\n",
        "X_train_bal, X_val_bal, y_train_bal, y_val_bal = train_test_split(\n",
        "    X_balanced,\n",
        "    y_balanced,\n",
        "    test_size=0.2,\n",
        "    random_state=39\n",
        ")\n",
        "\n",
        "##############################################################################\n",
        "# 4) Append leftover negative samples (not used in training) to the validation set\n",
        "##############################################################################\n",
        "if leftover_neg_indices.size > 0:\n",
        "    # Extract those leftover negative windows from the original X_combined, y_combined\n",
        "    X_leftover_neg = X_combined[leftover_neg_indices]\n",
        "    y_leftover_neg = y_combined[leftover_neg_indices]  # these are all 0\n",
        "\n",
        "    print(f\"\\nAppending leftover negatives to validation set: {len(y_leftover_neg)} samples\")\n",
        "\n",
        "    # Concatenate to validation\n",
        "    X_val = np.concatenate([X_val_bal, X_leftover_neg], axis=0)\n",
        "    y_val = np.concatenate([y_val_bal, y_leftover_neg], axis=0)\n",
        "else:\n",
        "    # If there are no leftover negatives, just use the original split\n",
        "    X_val = X_val_bal\n",
        "    y_val = y_val_bal\n",
        "\n",
        "# Finally, define X_train, y_train from the balanced portion\n",
        "X_train = X_train_bal\n",
        "y_train = y_train_bal\n",
        "\n",
        "# Optionally, shuffle the final validation set so that leftover negatives\n",
        "# don't appear in a block at the end\n",
        "val_indices = np.arange(len(X_val))\n",
        "np.random.shuffle(val_indices)\n",
        "X_val = X_val[val_indices]\n",
        "y_val = y_val[val_indices]\n",
        "\n",
        "##############################################################################\n",
        "# 5) Print final dataset shapes and label counts\n",
        "##############################################################################\n",
        "print(\"\\nFinal sets:\")\n",
        "print(f\"X_train_bal: {X_train_bal.shape}, y_train: {y_train_bal.shape}\")\n",
        "print(f\"X_val_bal:   {X_val_bal.shape},   y_val:   {y_val_bal.shape}\")\n",
        "print(f\"X_train: {X_train.shape}, y_train: {y_train.shape}\")\n",
        "print(f\"X_val:   {X_val.shape},   y_val:   {y_val.shape}\")\n",
        "print(\"Train set distribution:\")\n",
        "print(\"  Label=0:\", np.sum(y_train == 0))\n",
        "print(\"  Label=1:\", np.sum(y_train == 1))\n",
        "print(\"Validation set distribution:\")\n",
        "print(\"  Label=0:\", np.sum(y_val == 0))\n",
        "print(\"  Label=1:\", np.sum(y_val == 1))"
      ]
    },
    {
      "cell_type": "markdown",
      "source": [
        "# **Model Training**"
      ],
      "metadata": {
        "id": "9ilkFOyqi7d5"
      }
    },
    {
      "cell_type": "code",
      "source": [
        "# Model definition\n",
        "input_layer = Input(shape=(window_size, len(selected_features)))\n",
        "\n",
        "x = Conv1D(filters=8, kernel_size=3, activation='relu')(input_layer)\n",
        "x = MaxPooling1D(pool_size=2)(x)\n",
        "x = SimpleRNN(units=8, return_sequences=False)(x)\n",
        "x = Dense(units=4, activation='relu')(x)\n",
        "x = Dropout(rate=0.5)(x)\n",
        "output_layer = Dense(units=1, activation='sigmoid')(x)\n",
        "\n",
        "model = Model(inputs=input_layer, outputs=output_layer)\n",
        "model.compile(optimizer='adam', loss='binary_crossentropy', metrics=['accuracy'])\n",
        "model.summary()\n",
        "\n",
        "# Train the model\n",
        "model.fit(X_train_bal, y_train_bal, validation_data=(X_val_bal, y_val_bal), epochs=30, batch_size=256)\n",
        "\n",
        "# Save the model\n",
        "model.save('27_classifier_ReR1.h5')"
      ],
      "metadata": {
        "colab": {
          "base_uri": "https://localhost:8080/",
          "height": 1000
        },
        "id": "Ur_RRLjLi9xS",
        "outputId": "fa1204c8-ba0c-4726-c906-ff8497a133cf"
      },
      "execution_count": null,
      "outputs": [
        {
          "output_type": "display_data",
          "data": {
            "text/plain": [
              "\u001b[1mModel: \"functional\"\u001b[0m\n"
            ],
            "text/html": [
              "<pre style=\"white-space:pre;overflow-x:auto;line-height:normal;font-family:Menlo,'DejaVu Sans Mono',consolas,'Courier New',monospace\"><span style=\"font-weight: bold\">Model: \"functional\"</span>\n",
              "</pre>\n"
            ]
          },
          "metadata": {}
        },
        {
          "output_type": "display_data",
          "data": {
            "text/plain": [
              "┏━━━━━━━━━━━━━━━━━━━━━━━━━━━━━━━━━━━━━━┳━━━━━━━━━━━━━━━━━━━━━━━━━━━━━┳━━━━━━━━━━━━━━━━━┓\n",
              "┃\u001b[1m \u001b[0m\u001b[1mLayer (type)                        \u001b[0m\u001b[1m \u001b[0m┃\u001b[1m \u001b[0m\u001b[1mOutput Shape               \u001b[0m\u001b[1m \u001b[0m┃\u001b[1m \u001b[0m\u001b[1m        Param #\u001b[0m\u001b[1m \u001b[0m┃\n",
              "┡━━━━━━━━━━━━━━━━━━━━━━━━━━━━━━━━━━━━━━╇━━━━━━━━━━━━━━━━━━━━━━━━━━━━━╇━━━━━━━━━━━━━━━━━┩\n",
              "│ input_layer (\u001b[38;5;33mInputLayer\u001b[0m)             │ (\u001b[38;5;45mNone\u001b[0m, \u001b[38;5;34m40\u001b[0m, \u001b[38;5;34m4\u001b[0m)               │               \u001b[38;5;34m0\u001b[0m │\n",
              "├──────────────────────────────────────┼─────────────────────────────┼─────────────────┤\n",
              "│ conv1d (\u001b[38;5;33mConv1D\u001b[0m)                      │ (\u001b[38;5;45mNone\u001b[0m, \u001b[38;5;34m38\u001b[0m, \u001b[38;5;34m8\u001b[0m)               │             \u001b[38;5;34m104\u001b[0m │\n",
              "├──────────────────────────────────────┼─────────────────────────────┼─────────────────┤\n",
              "│ max_pooling1d (\u001b[38;5;33mMaxPooling1D\u001b[0m)         │ (\u001b[38;5;45mNone\u001b[0m, \u001b[38;5;34m19\u001b[0m, \u001b[38;5;34m8\u001b[0m)               │               \u001b[38;5;34m0\u001b[0m │\n",
              "├──────────────────────────────────────┼─────────────────────────────┼─────────────────┤\n",
              "│ simple_rnn (\u001b[38;5;33mSimpleRNN\u001b[0m)               │ (\u001b[38;5;45mNone\u001b[0m, \u001b[38;5;34m8\u001b[0m)                   │             \u001b[38;5;34m136\u001b[0m │\n",
              "├──────────────────────────────────────┼─────────────────────────────┼─────────────────┤\n",
              "│ dense (\u001b[38;5;33mDense\u001b[0m)                        │ (\u001b[38;5;45mNone\u001b[0m, \u001b[38;5;34m4\u001b[0m)                   │              \u001b[38;5;34m36\u001b[0m │\n",
              "├──────────────────────────────────────┼─────────────────────────────┼─────────────────┤\n",
              "│ dropout (\u001b[38;5;33mDropout\u001b[0m)                    │ (\u001b[38;5;45mNone\u001b[0m, \u001b[38;5;34m4\u001b[0m)                   │               \u001b[38;5;34m0\u001b[0m │\n",
              "├──────────────────────────────────────┼─────────────────────────────┼─────────────────┤\n",
              "│ dense_1 (\u001b[38;5;33mDense\u001b[0m)                      │ (\u001b[38;5;45mNone\u001b[0m, \u001b[38;5;34m1\u001b[0m)                   │               \u001b[38;5;34m5\u001b[0m │\n",
              "└──────────────────────────────────────┴─────────────────────────────┴─────────────────┘\n"
            ],
            "text/html": [
              "<pre style=\"white-space:pre;overflow-x:auto;line-height:normal;font-family:Menlo,'DejaVu Sans Mono',consolas,'Courier New',monospace\">┏━━━━━━━━━━━━━━━━━━━━━━━━━━━━━━━━━━━━━━┳━━━━━━━━━━━━━━━━━━━━━━━━━━━━━┳━━━━━━━━━━━━━━━━━┓\n",
              "┃<span style=\"font-weight: bold\"> Layer (type)                         </span>┃<span style=\"font-weight: bold\"> Output Shape                </span>┃<span style=\"font-weight: bold\">         Param # </span>┃\n",
              "┡━━━━━━━━━━━━━━━━━━━━━━━━━━━━━━━━━━━━━━╇━━━━━━━━━━━━━━━━━━━━━━━━━━━━━╇━━━━━━━━━━━━━━━━━┩\n",
              "│ input_layer (<span style=\"color: #0087ff; text-decoration-color: #0087ff\">InputLayer</span>)             │ (<span style=\"color: #00d7ff; text-decoration-color: #00d7ff\">None</span>, <span style=\"color: #00af00; text-decoration-color: #00af00\">40</span>, <span style=\"color: #00af00; text-decoration-color: #00af00\">4</span>)               │               <span style=\"color: #00af00; text-decoration-color: #00af00\">0</span> │\n",
              "├──────────────────────────────────────┼─────────────────────────────┼─────────────────┤\n",
              "│ conv1d (<span style=\"color: #0087ff; text-decoration-color: #0087ff\">Conv1D</span>)                      │ (<span style=\"color: #00d7ff; text-decoration-color: #00d7ff\">None</span>, <span style=\"color: #00af00; text-decoration-color: #00af00\">38</span>, <span style=\"color: #00af00; text-decoration-color: #00af00\">8</span>)               │             <span style=\"color: #00af00; text-decoration-color: #00af00\">104</span> │\n",
              "├──────────────────────────────────────┼─────────────────────────────┼─────────────────┤\n",
              "│ max_pooling1d (<span style=\"color: #0087ff; text-decoration-color: #0087ff\">MaxPooling1D</span>)         │ (<span style=\"color: #00d7ff; text-decoration-color: #00d7ff\">None</span>, <span style=\"color: #00af00; text-decoration-color: #00af00\">19</span>, <span style=\"color: #00af00; text-decoration-color: #00af00\">8</span>)               │               <span style=\"color: #00af00; text-decoration-color: #00af00\">0</span> │\n",
              "├──────────────────────────────────────┼─────────────────────────────┼─────────────────┤\n",
              "│ simple_rnn (<span style=\"color: #0087ff; text-decoration-color: #0087ff\">SimpleRNN</span>)               │ (<span style=\"color: #00d7ff; text-decoration-color: #00d7ff\">None</span>, <span style=\"color: #00af00; text-decoration-color: #00af00\">8</span>)                   │             <span style=\"color: #00af00; text-decoration-color: #00af00\">136</span> │\n",
              "├──────────────────────────────────────┼─────────────────────────────┼─────────────────┤\n",
              "│ dense (<span style=\"color: #0087ff; text-decoration-color: #0087ff\">Dense</span>)                        │ (<span style=\"color: #00d7ff; text-decoration-color: #00d7ff\">None</span>, <span style=\"color: #00af00; text-decoration-color: #00af00\">4</span>)                   │              <span style=\"color: #00af00; text-decoration-color: #00af00\">36</span> │\n",
              "├──────────────────────────────────────┼─────────────────────────────┼─────────────────┤\n",
              "│ dropout (<span style=\"color: #0087ff; text-decoration-color: #0087ff\">Dropout</span>)                    │ (<span style=\"color: #00d7ff; text-decoration-color: #00d7ff\">None</span>, <span style=\"color: #00af00; text-decoration-color: #00af00\">4</span>)                   │               <span style=\"color: #00af00; text-decoration-color: #00af00\">0</span> │\n",
              "├──────────────────────────────────────┼─────────────────────────────┼─────────────────┤\n",
              "│ dense_1 (<span style=\"color: #0087ff; text-decoration-color: #0087ff\">Dense</span>)                      │ (<span style=\"color: #00d7ff; text-decoration-color: #00d7ff\">None</span>, <span style=\"color: #00af00; text-decoration-color: #00af00\">1</span>)                   │               <span style=\"color: #00af00; text-decoration-color: #00af00\">5</span> │\n",
              "└──────────────────────────────────────┴─────────────────────────────┴─────────────────┘\n",
              "</pre>\n"
            ]
          },
          "metadata": {}
        },
        {
          "output_type": "display_data",
          "data": {
            "text/plain": [
              "\u001b[1m Total params: \u001b[0m\u001b[38;5;34m281\u001b[0m (1.10 KB)\n"
            ],
            "text/html": [
              "<pre style=\"white-space:pre;overflow-x:auto;line-height:normal;font-family:Menlo,'DejaVu Sans Mono',consolas,'Courier New',monospace\"><span style=\"font-weight: bold\"> Total params: </span><span style=\"color: #00af00; text-decoration-color: #00af00\">281</span> (1.10 KB)\n",
              "</pre>\n"
            ]
          },
          "metadata": {}
        },
        {
          "output_type": "display_data",
          "data": {
            "text/plain": [
              "\u001b[1m Trainable params: \u001b[0m\u001b[38;5;34m281\u001b[0m (1.10 KB)\n"
            ],
            "text/html": [
              "<pre style=\"white-space:pre;overflow-x:auto;line-height:normal;font-family:Menlo,'DejaVu Sans Mono',consolas,'Courier New',monospace\"><span style=\"font-weight: bold\"> Trainable params: </span><span style=\"color: #00af00; text-decoration-color: #00af00\">281</span> (1.10 KB)\n",
              "</pre>\n"
            ]
          },
          "metadata": {}
        },
        {
          "output_type": "display_data",
          "data": {
            "text/plain": [
              "\u001b[1m Non-trainable params: \u001b[0m\u001b[38;5;34m0\u001b[0m (0.00 B)\n"
            ],
            "text/html": [
              "<pre style=\"white-space:pre;overflow-x:auto;line-height:normal;font-family:Menlo,'DejaVu Sans Mono',consolas,'Courier New',monospace\"><span style=\"font-weight: bold\"> Non-trainable params: </span><span style=\"color: #00af00; text-decoration-color: #00af00\">0</span> (0.00 B)\n",
              "</pre>\n"
            ]
          },
          "metadata": {}
        },
        {
          "output_type": "stream",
          "name": "stdout",
          "text": [
            "Epoch 1/30\n",
            "\u001b[1m74/74\u001b[0m \u001b[32m━━━━━━━━━━━━━━━━━━━━\u001b[0m\u001b[37m\u001b[0m \u001b[1m5s\u001b[0m 20ms/step - accuracy: 0.7265 - loss: 0.6611 - val_accuracy: 0.7472 - val_loss: 0.5908\n",
            "Epoch 2/30\n",
            "\u001b[1m74/74\u001b[0m \u001b[32m━━━━━━━━━━━━━━━━━━━━\u001b[0m\u001b[37m\u001b[0m \u001b[1m1s\u001b[0m 14ms/step - accuracy: 0.7615 - loss: 0.6077 - val_accuracy: 0.8348 - val_loss: 0.5098\n",
            "Epoch 3/30\n",
            "\u001b[1m74/74\u001b[0m \u001b[32m━━━━━━━━━━━━━━━━━━━━\u001b[0m\u001b[37m\u001b[0m \u001b[1m1s\u001b[0m 14ms/step - accuracy: 0.7883 - loss: 0.5610 - val_accuracy: 0.8444 - val_loss: 0.4729\n",
            "Epoch 4/30\n",
            "\u001b[1m74/74\u001b[0m \u001b[32m━━━━━━━━━━━━━━━━━━━━\u001b[0m\u001b[37m\u001b[0m \u001b[1m1s\u001b[0m 13ms/step - accuracy: 0.7977 - loss: 0.5379 - val_accuracy: 0.8660 - val_loss: 0.4239\n",
            "Epoch 5/30\n",
            "\u001b[1m74/74\u001b[0m \u001b[32m━━━━━━━━━━━━━━━━━━━━\u001b[0m\u001b[37m\u001b[0m \u001b[1m1s\u001b[0m 20ms/step - accuracy: 0.8083 - loss: 0.4816 - val_accuracy: 0.8741 - val_loss: 0.3887\n",
            "Epoch 6/30\n",
            "\u001b[1m74/74\u001b[0m \u001b[32m━━━━━━━━━━━━━━━━━━━━\u001b[0m\u001b[37m\u001b[0m \u001b[1m2s\u001b[0m 14ms/step - accuracy: 0.8156 - loss: 0.4401 - val_accuracy: 0.8805 - val_loss: 0.3656\n",
            "Epoch 7/30\n",
            "\u001b[1m74/74\u001b[0m \u001b[32m━━━━━━━━━━━━━━━━━━━━\u001b[0m\u001b[37m\u001b[0m \u001b[1m1s\u001b[0m 12ms/step - accuracy: 0.8145 - loss: 0.4308 - val_accuracy: 0.8820 - val_loss: 0.3420\n",
            "Epoch 8/30\n",
            "\u001b[1m74/74\u001b[0m \u001b[32m━━━━━━━━━━━━━━━━━━━━\u001b[0m\u001b[37m\u001b[0m \u001b[1m1s\u001b[0m 14ms/step - accuracy: 0.8178 - loss: 0.4020 - val_accuracy: 0.8839 - val_loss: 0.2936\n",
            "Epoch 9/30\n",
            "\u001b[1m74/74\u001b[0m \u001b[32m━━━━━━━━━━━━━━━━━━━━\u001b[0m\u001b[37m\u001b[0m \u001b[1m1s\u001b[0m 12ms/step - accuracy: 0.8126 - loss: 0.3646 - val_accuracy: 0.8799 - val_loss: 0.2772\n",
            "Epoch 10/30\n",
            "\u001b[1m74/74\u001b[0m \u001b[32m━━━━━━━━━━━━━━━━━━━━\u001b[0m\u001b[37m\u001b[0m \u001b[1m1s\u001b[0m 13ms/step - accuracy: 0.8179 - loss: 0.3444 - val_accuracy: 0.8869 - val_loss: 0.2464\n",
            "Epoch 11/30\n",
            "\u001b[1m74/74\u001b[0m \u001b[32m━━━━━━━━━━━━━━━━━━━━\u001b[0m\u001b[37m\u001b[0m \u001b[1m1s\u001b[0m 12ms/step - accuracy: 0.8210 - loss: 0.3302 - val_accuracy: 0.8872 - val_loss: 0.2412\n",
            "Epoch 12/30\n",
            "\u001b[1m74/74\u001b[0m \u001b[32m━━━━━━━━━━━━━━━━━━━━\u001b[0m\u001b[37m\u001b[0m \u001b[1m1s\u001b[0m 11ms/step - accuracy: 0.8185 - loss: 0.3185 - val_accuracy: 0.8908 - val_loss: 0.2310\n",
            "Epoch 13/30\n",
            "\u001b[1m74/74\u001b[0m \u001b[32m━━━━━━━━━━━━━━━━━━━━\u001b[0m\u001b[37m\u001b[0m \u001b[1m1s\u001b[0m 12ms/step - accuracy: 0.8131 - loss: 0.3216 - val_accuracy: 0.8914 - val_loss: 0.2210\n",
            "Epoch 14/30\n",
            "\u001b[1m74/74\u001b[0m \u001b[32m━━━━━━━━━━━━━━━━━━━━\u001b[0m\u001b[37m\u001b[0m \u001b[1m1s\u001b[0m 13ms/step - accuracy: 0.8160 - loss: 0.3089 - val_accuracy: 0.8916 - val_loss: 0.2168\n",
            "Epoch 15/30\n",
            "\u001b[1m74/74\u001b[0m \u001b[32m━━━━━━━━━━━━━━━━━━━━\u001b[0m\u001b[37m\u001b[0m \u001b[1m1s\u001b[0m 20ms/step - accuracy: 0.8154 - loss: 0.3141 - val_accuracy: 0.8936 - val_loss: 0.2143\n",
            "Epoch 16/30\n",
            "\u001b[1m74/74\u001b[0m \u001b[32m━━━━━━━━━━━━━━━━━━━━\u001b[0m\u001b[37m\u001b[0m \u001b[1m2s\u001b[0m 14ms/step - accuracy: 0.8224 - loss: 0.2943 - val_accuracy: 0.8931 - val_loss: 0.2076\n",
            "Epoch 17/30\n",
            "\u001b[1m74/74\u001b[0m \u001b[32m━━━━━━━━━━━━━━━━━━━━\u001b[0m\u001b[37m\u001b[0m \u001b[1m1s\u001b[0m 14ms/step - accuracy: 0.8234 - loss: 0.2941 - val_accuracy: 0.8944 - val_loss: 0.1989\n",
            "Epoch 18/30\n",
            "\u001b[1m74/74\u001b[0m \u001b[32m━━━━━━━━━━━━━━━━━━━━\u001b[0m\u001b[37m\u001b[0m \u001b[1m1s\u001b[0m 12ms/step - accuracy: 0.8176 - loss: 0.2906 - val_accuracy: 0.8953 - val_loss: 0.1987\n",
            "Epoch 19/30\n",
            "\u001b[1m74/74\u001b[0m \u001b[32m━━━━━━━━━━━━━━━━━━━━\u001b[0m\u001b[37m\u001b[0m \u001b[1m1s\u001b[0m 12ms/step - accuracy: 0.8198 - loss: 0.2822 - val_accuracy: 0.8899 - val_loss: 0.2140\n",
            "Epoch 20/30\n",
            "\u001b[1m74/74\u001b[0m \u001b[32m━━━━━━━━━━━━━━━━━━━━\u001b[0m\u001b[37m\u001b[0m \u001b[1m1s\u001b[0m 13ms/step - accuracy: 0.8207 - loss: 0.2922 - val_accuracy: 0.8951 - val_loss: 0.1968\n",
            "Epoch 21/30\n",
            "\u001b[1m74/74\u001b[0m \u001b[32m━━━━━━━━━━━━━━━━━━━━\u001b[0m\u001b[37m\u001b[0m \u001b[1m1s\u001b[0m 13ms/step - accuracy: 0.8156 - loss: 0.2873 - val_accuracy: 0.8959 - val_loss: 0.1907\n",
            "Epoch 22/30\n",
            "\u001b[1m74/74\u001b[0m \u001b[32m━━━━━━━━━━━━━━━━━━━━\u001b[0m\u001b[37m\u001b[0m \u001b[1m1s\u001b[0m 12ms/step - accuracy: 0.8217 - loss: 0.2809 - val_accuracy: 0.8951 - val_loss: 0.1918\n",
            "Epoch 23/30\n",
            "\u001b[1m74/74\u001b[0m \u001b[32m━━━━━━━━━━━━━━━━━━━━\u001b[0m\u001b[37m\u001b[0m \u001b[1m1s\u001b[0m 13ms/step - accuracy: 0.8182 - loss: 0.2793 - val_accuracy: 0.8955 - val_loss: 0.1863\n",
            "Epoch 24/30\n",
            "\u001b[1m74/74\u001b[0m \u001b[32m━━━━━━━━━━━━━━━━━━━━\u001b[0m\u001b[37m\u001b[0m \u001b[1m1s\u001b[0m 14ms/step - accuracy: 0.8179 - loss: 0.2850 - val_accuracy: 0.8978 - val_loss: 0.1818\n",
            "Epoch 25/30\n",
            "\u001b[1m74/74\u001b[0m \u001b[32m━━━━━━━━━━━━━━━━━━━━\u001b[0m\u001b[37m\u001b[0m \u001b[1m2s\u001b[0m 20ms/step - accuracy: 0.8206 - loss: 0.2845 - val_accuracy: 0.8968 - val_loss: 0.1816\n",
            "Epoch 26/30\n",
            "\u001b[1m74/74\u001b[0m \u001b[32m━━━━━━━━━━━━━━━━━━━━\u001b[0m\u001b[37m\u001b[0m \u001b[1m1s\u001b[0m 19ms/step - accuracy: 0.8301 - loss: 0.2703 - val_accuracy: 0.9288 - val_loss: 0.1823\n",
            "Epoch 27/30\n",
            "\u001b[1m74/74\u001b[0m \u001b[32m━━━━━━━━━━━━━━━━━━━━\u001b[0m\u001b[37m\u001b[0m \u001b[1m1s\u001b[0m 13ms/step - accuracy: 0.8502 - loss: 0.2720 - val_accuracy: 0.9389 - val_loss: 0.1851\n",
            "Epoch 28/30\n",
            "\u001b[1m74/74\u001b[0m \u001b[32m━━━━━━━━━━━━━━━━━━━━\u001b[0m\u001b[37m\u001b[0m \u001b[1m1s\u001b[0m 11ms/step - accuracy: 0.8523 - loss: 0.2770 - val_accuracy: 0.9397 - val_loss: 0.1774\n",
            "Epoch 29/30\n",
            "\u001b[1m74/74\u001b[0m \u001b[32m━━━━━━━━━━━━━━━━━━━━\u001b[0m\u001b[37m\u001b[0m \u001b[1m1s\u001b[0m 12ms/step - accuracy: 0.8544 - loss: 0.2819 - val_accuracy: 0.9425 - val_loss: 0.1732\n",
            "Epoch 30/30\n",
            "\u001b[1m74/74\u001b[0m \u001b[32m━━━━━━━━━━━━━━━━━━━━\u001b[0m\u001b[37m\u001b[0m \u001b[1m1s\u001b[0m 13ms/step - accuracy: 0.8564 - loss: 0.2748 - val_accuracy: 0.9410 - val_loss: 0.1722\n"
          ]
        },
        {
          "output_type": "stream",
          "name": "stderr",
          "text": [
            "WARNING:absl:You are saving your model as an HDF5 file via `model.save()` or `keras.saving.save_model(model)`. This file format is considered legacy. We recommend using instead the native Keras format, e.g. `model.save('my_model.keras')` or `keras.saving.save_model(model, 'my_model.keras')`. \n"
          ]
        }
      ]
    },
    {
      "cell_type": "markdown",
      "source": [
        "# **Validation**"
      ],
      "metadata": {
        "id": "60NlRy-zjHUa"
      }
    },
    {
      "cell_type": "code",
      "source": [
        "import numpy as np\n",
        "import tensorflow as tf\n",
        "from sklearn.metrics import confusion_matrix\n",
        "import matplotlib.pyplot as plt\n",
        "\n",
        "# Load the trained model\n",
        "model = tf.keras.models.load_model('27_classifier_ReR1.h5')\n",
        "\n",
        "# Predict on the validation data\n",
        "y_pred_prob = model.predict(X_val)\n",
        "\n",
        "# Convert predicted probabilities to binary class labels (threshold = 0.5 for binary classification)\n",
        "y_pred = (y_pred_prob > 0.5).astype(int).flatten()\n",
        "\n",
        "# `y_val` is already binary in this case\n",
        "y_true = y_val\n",
        "\n",
        "# Create confusion matrix\n",
        "conf_matrix = confusion_matrix(y_true, y_pred)\n",
        "\n",
        "# Normalize the confusion matrix by row (true labels) to get percentages\n",
        "conf_matrix_normalized = conf_matrix.astype('float') / conf_matrix.sum(axis=1)[:, np.newaxis] * 100\n",
        "\n",
        "# Plot confusion matrix without the color bar and title\n",
        "fig, ax = plt.subplots(figsize=(6, 6))\n",
        "cax = ax.matshow(conf_matrix_normalized, cmap=plt.cm.Blues)\n",
        "\n",
        "# Remove axis labels and ticks\n",
        "ax.set_xticks([])\n",
        "ax.set_yticks([])\n",
        "\n",
        "# Display the percentage values in the cells with a larger font size\n",
        "threshold = conf_matrix_normalized.max() / 2.0\n",
        "\n",
        "for (i, j), val in np.ndenumerate(conf_matrix_normalized):\n",
        "    color = 'white' if conf_matrix_normalized[i, j] > threshold else 'black'\n",
        "    ax.text(j, i, f'{val:.2f}%', ha='center', va='center', color=color, fontsize=14)\n",
        "\n",
        "# Save the figure as a vectorized .eps file\n",
        "plt.savefig('CM_DataDriven.eps', format='eps', bbox_inches='tight')\n",
        "\n",
        "# Show the plot without labels and with larger numbers\n",
        "plt.show()"
      ],
      "metadata": {
        "colab": {
          "base_uri": "https://localhost:8080/",
          "height": 553
        },
        "id": "rikMWqn7jJQp",
        "outputId": "bb43e9b9-d9b3-4a99-be72-48d0f4223d7d"
      },
      "execution_count": null,
      "outputs": [
        {
          "output_type": "stream",
          "name": "stderr",
          "text": [
            "WARNING:absl:Compiled the loaded model, but the compiled metrics have yet to be built. `model.compile_metrics` will be empty until you train or evaluate the model.\n"
          ]
        },
        {
          "output_type": "stream",
          "name": "stdout",
          "text": [
            "\u001b[1m11204/11204\u001b[0m \u001b[32m━━━━━━━━━━━━━━━━━━━━\u001b[0m\u001b[37m\u001b[0m \u001b[1m43s\u001b[0m 4ms/step\n"
          ]
        },
        {
          "output_type": "display_data",
          "data": {
            "text/plain": [
              "<Figure size 600x600 with 1 Axes>"
            ],
            "image/png": "[encoded data removed]"
          },
          "metadata": {}
        }
      ]
    },
    {
      "cell_type": "markdown",
      "source": [
        "# **Sensitivity Analysis**"
      ],
      "metadata": {
        "id": "DUDabSB9jUMn"
      }
    },
    {
      "cell_type": "code",
      "source": [
        "import numpy as np\n",
        "import tensorflow as tf\n",
        "import matplotlib.pyplot as plt\n",
        "\n",
        "# Load the trained model\n",
        "model = tf.keras.models.load_model('27_classifier_ReR1.h5')\n",
        "\n",
        "# Define the selected features used in training\n",
        "\n",
        "# Prepare a batch of test data\n",
        "batch_size = len(X_val)  # Number of samples for sensitivity analysis\n",
        "X_batch = X_val[:batch_size]  # Select a subset of the test data\n",
        "\n",
        "# Create a TensorFlow gradient tape to compute gradients\n",
        "X_batch_tensor = tf.convert_to_tensor(X_batch, dtype=tf.float32)\n",
        "with tf.GradientTape() as tape:\n",
        "    tape.watch(X_batch_tensor)\n",
        "    predictions = model(X_batch_tensor)  # Forward pass through the model\n",
        "    # Select the positive class probability for binary classification\n",
        "    output_for_gradients = predictions[:, 0]\n",
        "\n",
        "# Compute the gradients of the selected output with respect to the input features\n",
        "gradients = tape.gradient(output_for_gradients, X_batch_tensor)\n",
        "\n",
        "# Verify gradients are not None\n",
        "if gradients is None:\n",
        "    raise ValueError(\"Gradient computation failed. Ensure the model is differentiable with respect to its inputs.\")\n",
        "\n",
        "# Compute the mean absolute gradient across all samples for each feature\n",
        "feature_sensitivity = tf.reduce_mean(tf.abs(gradients), axis=[0, 1]).numpy()\n",
        "\n",
        "# Normalize the sensitivity values so that their sum equals 1\n",
        "feature_sensitivity_normalized = feature_sensitivity / np.sum(feature_sensitivity)\n",
        "\n",
        "# Print the sensitivity value for each feature\n",
        "print(\"Feature Sensitivity Values (Normalized):\")\n",
        "for i, sensitivity in zip(selected_features, feature_sensitivity_normalized):\n",
        "    print(f\"Feature {i+1}: {sensitivity:.4f}\")\n",
        "\n",
        "import math\n",
        "# Determine the top 50% most sensitive features using ceil\n",
        "num_top_features = math.ceil(len(selected_features) / 2)\n",
        "top_indices = np.argsort(feature_sensitivity_normalized)[-num_top_features:]\n",
        "\n",
        "# Assign colors: green for top 50%, blue for the rest\n",
        "bar_colors = ['green' if i in top_indices else 'blue' for i in range(len(selected_features))]\n",
        "\n",
        "# Plot the normalized feature significance\n",
        "plt.figure(figsize=(10, 6))\n",
        "plt.bar(range(len(selected_features)), feature_sensitivity_normalized, color=bar_colors)\n",
        "plt.xticks(range(len(selected_features)), [f'Feature {i+1}' for i in selected_features], rotation=45)\n",
        "plt.xlabel('Features')\n",
        "plt.ylabel('Normalized Sensitivity')\n",
        "plt.title('Normalized Feature Significance Based on Gradient Sensitivity Analysis')\n",
        "plt.grid(axis='y')\n",
        "plt.tight_layout()\n",
        "plt.show()"
      ],
      "metadata": {
        "colab": {
          "base_uri": "https://localhost:8080/",
          "height": 729
        },
        "id": "I1H9bHjkjXKw",
        "outputId": "a9f6f96a-97a6-4ec5-f70f-e5be5bbb5205"
      },
      "execution_count": null,
      "outputs": [
        {
          "output_type": "stream",
          "name": "stderr",
          "text": [
            "WARNING:absl:Compiled the loaded model, but the compiled metrics have yet to be built. `model.compile_metrics` will be empty until you train or evaluate the model.\n"
          ]
        },
        {
          "output_type": "stream",
          "name": "stdout",
          "text": [
            "Feature Sensitivity Values (Normalized):\n",
            "Feature 10: 0.0951\n",
            "Feature 18: 0.6822\n",
            "Feature 34: 0.1239\n",
            "Feature 35: 0.0988\n"
          ]
        },
        {
          "output_type": "display_data",
          "data": {
            "text/plain": [
              "<Figure size 1000x600 with 1 Axes>"
            ],
            "image/png": "[encoded data removed]"
          },
          "metadata": {}
        }
      ]
    }
  ]
}